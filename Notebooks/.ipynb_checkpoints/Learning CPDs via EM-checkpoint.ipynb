{
 "cells": [
  {
   "cell_type": "markdown",
   "metadata": {},
   "source": [
    "## CPD Learning with Missing Values via Expectation Maximization"
   ]
  },
  {
   "cell_type": "markdown",
   "metadata": {},
   "source": [
    "Consider the following BN\n",
    "\\begin{align}\n",
    "p(x_0,x_1,x_2,x_3,x_4,x_5)=p(x_0)p(x_1|x_0)p(x_2|x1)p(x_5|x_0,x_2)p(x_3)p(x_4|x_3)\n",
    "\\end{align}\n",
    "\n",
    "where $x_j$, $j=0,\\ldots,5$ are a discrete R.V.\n",
    "\n",
    "In this notebook we first show how to generate samples of the above probabilistic model using *forward sampling*. For each sample that we generate, some values are erased at random. Then, we show how to use these samples to estimate the CPD values from them using EM. "
   ]
  },
  {
   "cell_type": "code",
   "execution_count": 3,
   "metadata": {
    "collapsed": false
   },
   "outputs": [
    {
     "data": {
      "image/png": "[encoded data removed]",
      "text/plain": [
       "<IPython.core.display.Image object>"
      ]
     },
     "execution_count": 3,
     "metadata": {},
     "output_type": "execute_result"
    }
   ],
   "source": [
    "import numpy as np\n",
    "from lib import Message_passing_BN as mp\n",
    "import warnings\n",
    "warnings.filterwarnings('ignore')\n",
    "from IPython.display import Image\n",
    "\n",
    "Image(filename='files/BN3.png')"
   ]
  },
  {
   "cell_type": "markdown",
   "metadata": {},
   "source": [
    "### First, we create the true CPDs at random. \n",
    "\n",
    "Keep in mind that CPDs are stored in a column vector using tree-encoding."
   ]
  },
  {
   "cell_type": "code",
   "execution_count": 4,
   "metadata": {
    "collapsed": false
   },
   "outputs": [],
   "source": [
    "v_card=[3,2,3,2,4,2] #Vector of cardinalities. \n",
    "\n",
    "\n",
    "CPD_0=np.random.rand(v_card[0],1)\n",
    "CPD_0/=CPD_0.sum()\n",
    "\n",
    "#p(x1|x0) The CPD encoding order is x0-->x1. IN this way, we know that every consecutive v_card[1] positions in the \n",
    "#table must sum 1. This is used for normalization\n",
    "\n",
    "length_table=v_card[0]*v_card[1]\n",
    "CPD_1=np.zeros([length_table,1])\n",
    "for i in range(v_card[0]):\n",
    "    aux=np.random.rand(v_card[1],1)\n",
    "    aux/=aux.sum()\n",
    "    CPD_1[i*v_card[1]:(i+1)*v_card[1]]=aux\n",
    "\n",
    "#p(x2|x1) Encoding order x1-->x2\n",
    "length_table=v_card[1]*v_card[2]\n",
    "CPD_2=np.zeros([length_table,1])\n",
    "for i in range(v_card[1]):\n",
    "    aux=np.random.rand(v_card[2],1)\n",
    "    aux/=aux.sum()\n",
    "    CPD_2[i*v_card[2]:(i+1)*v_card[2]]=aux\n",
    "    \n",
    "\n",
    "#p(x5|x0,x2) Encoding order x0-->x2-->x5\n",
    "\n",
    "length_table=v_card[0]*v_card[2]*v_card[5]\n",
    "CPD_5=np.zeros([length_table,1])\n",
    "for i in range(v_card[0]*v_card[2]):\n",
    "    aux=np.random.rand(v_card[5],1)\n",
    "    aux/=aux.sum()\n",
    "    CPD_5[i*v_card[5]:(i+1)*v_card[5]]=aux\n",
    "\n",
    "#p(x3)\n",
    "CPD_3=np.random.rand(v_card[3],1)\n",
    "CPD_3/=CPD_3.sum()\n",
    "\n",
    "#p(x4|x3) Encoding order x3-->x4\n",
    "length_table=v_card[3]*v_card[4]\n",
    "CPD_4=np.zeros([length_table,1])\n",
    "for i in range(v_card[3]):\n",
    "    aux=np.random.rand(v_card[4],1)\n",
    "    aux/=aux.sum()\n",
    "    CPD_4[i*v_card[4]:(i+1)*v_card[4]]=aux\n",
    "\n",
    "\n"
   ]
  },
  {
   "cell_type": "markdown",
   "metadata": {},
   "source": [
    "### Generating samples from the BN\n",
    "\n",
    "We use [forward sampling](https://esc.fnwi.uva.nl/thesis/centraal/files/f568932412.pdf). Starting from the roots of the BN, we sample in order from each CPD.\n",
    "\n",
    "For every generated sample, some variables chosen at random are considered unobserved."
   ]
  },
  {
   "cell_type": "code",
   "execution_count": 5,
   "metadata": {
    "collapsed": false
   },
   "outputs": [],
   "source": [
    "N_samples=300\n",
    "Samples_matrix=np.zeros([N_samples,6]).astype(int)\n",
    "\n",
    "for i in range(N_samples):\n",
    "    \n",
    "    #We sample x0 and x3\n",
    "    \n",
    "    Samples_matrix[i,0]=np.nonzero(np.random.multinomial(1,CPD_0[:,0]))[0][0].astype(int)\n",
    "    Samples_matrix[i,3]=np.nonzero(np.random.multinomial(1,CPD_3[:,0]))[0][0].astype(int)\n",
    "    \n",
    "    #We sample x1 given x0\n",
    "    parent_index=Samples_matrix[i,0]\n",
    "    Samples_matrix[i,1]=np.nonzero(np.random.multinomial(1,CPD_1[parent_index*v_card[1]:(parent_index+1)*v_card[1],0]))[0][0].astype(int)    \n",
    "    \n",
    "    #We sample x2 given x1\n",
    "    parent_index=Samples_matrix[i,1]\n",
    "    Samples_matrix[i,2]=np.nonzero(np.random.multinomial(1,CPD_2[parent_index*v_card[2]:(parent_index+1)*v_card[2],0]))[0][0].astype(int)    \n",
    "    \n",
    "    #We sample x5 given x0 and x2\n",
    "    parent_indexes=(Samples_matrix[i,0],Samples_matrix[i,2])\n",
    "    position=mp.variable_index_to_CPD_position(parent_indexes,[v_card[0],v_card[2]],v_card[0]*v_card[2])\n",
    "    Samples_matrix[i,5]=np.nonzero(np.random.multinomial(1,CPD_5[position*v_card[5]:(position+1)*v_card[5],0]))[0][0].astype(int)  \n",
    "    \n",
    "    #We sample x4 given 3\n",
    "    parent_index=Samples_matrix[i,3]\n",
    "    Samples_matrix[i,4]=np.nonzero(np.random.multinomial(1,CPD_4[parent_index*v_card[4]:(parent_index+1)*v_card[4],0]))[0][0].astype(int)     \n",
    "\n",
    "    #We remove some observatios in the vector at random (at most 5 hidden variables)\n",
    "    num_hidden=np.random.randint(1,6,1)-1\n",
    "    index_hidden=np.random.randint(0,5,num_hidden)\n",
    "    Samples_matrix[i,index_hidden]=-1"
   ]
  },
  {
   "cell_type": "markdown",
   "metadata": {},
   "source": [
    "## CPD Learning via EM"
   ]
  },
  {
   "cell_type": "markdown",
   "metadata": {
    "collapsed": true
   },
   "source": [
    "  * $\\mathbf{x}_i$ is the set of unobserved variables in $i$-th data\n",
    "  * $\\mathbf{y}_i$ is the set of observed variables in $i$-th data\n",
    "  * **E-STEP**:\n",
    "  $$ Q(\\boldsymbol{\\theta},\\boldsymbol{\\theta}^{\\ell-1})=\\sum_{i=1}^{N}\\sum_{c=1}^{K_{\\text{pa}(t)}}\\sum_{k=1}^{K_t} \\widetilde{N_{tck}} \\log \\theta_{tck} $$\n",
    "  where\n",
    "  $$ \\widetilde{N_{tck}}=\\sum_{i=1}^{N}\\mathbb{E}\\left[\\text{indicator}[x_{it}=k,\\boldsymbol{x}_{i,\\text{pa}(t)}=c]\\right]$$"
   ]
  },
  {
   "cell_type": "code",
   "execution_count": 6,
   "metadata": {
    "collapsed": true
   },
   "outputs": [],
   "source": [
    "#Lets create random CPDs as initialization\n",
    "\n",
    "CPD_EM_0=np.random.rand(v_card[0],1)\n",
    "CPD_EM_0/=CPD_EM_0.sum()\n",
    "\n",
    "#p(x1|x0)\n",
    "length_table=v_card[0]*v_card[1]\n",
    "CPD_EM_1=np.zeros([length_table,1])\n",
    "for i in range(v_card[0]):\n",
    "    aux=np.random.rand(v_card[1],1)\n",
    "    aux/=aux.sum()\n",
    "    CPD_EM_1[i*v_card[1]:(i+1)*v_card[1]]=aux\n",
    "\n",
    "#p(x2|x1)\n",
    "length_table=v_card[1]*v_card[2]\n",
    "CPD_EM_2=np.zeros([length_table,1])\n",
    "for i in range(v_card[1]):\n",
    "    aux=np.random.rand(v_card[2],1)\n",
    "    aux/=aux.sum()\n",
    "    CPD_EM_2[i*v_card[2]:(i+1)*v_card[2]]=aux\n",
    "    \n",
    "#p(x5|x0,x2)\n",
    "length_table=v_card[0]*v_card[2]*v_card[5]\n",
    "CPD_EM_5=np.zeros([length_table,1])\n",
    "\n",
    "for i in range(v_card[0]*v_card[2]):\n",
    "    aux=np.random.rand(v_card[5],1)\n",
    "    aux/=aux.sum()\n",
    "    CPD_EM_5[i*v_card[5]:(i+1)*v_card[5]]=aux\n",
    "\n",
    "#p(x3)\n",
    "CPD_EM_3=np.random.rand(v_card[3],1)\n",
    "CPD_EM_3/=CPD_EM_3.sum()\n",
    "\n",
    "\n",
    "#p(x4|x3)\n",
    "length_table=v_card[3]*v_card[4]\n",
    "CPD_EM_4=np.zeros([length_table,1])\n",
    "for i in range(v_card[3]):\n",
    "    aux=np.random.rand(v_card[4],1)\n",
    "    aux/=aux.sum()\n",
    "    CPD_EM_4[i*v_card[4]:(i+1)*v_card[4]]=aux\n",
    "\n"
   ]
  },
  {
   "cell_type": "markdown",
   "metadata": {},
   "source": [
    "Now, we create the factor graph using the provided library"
   ]
  },
  {
   "cell_type": "code",
   "execution_count": 7,
   "metadata": {
    "collapsed": false
   },
   "outputs": [],
   "source": [
    "#Variable nodes\n",
    "\n",
    "node_x0=mp.create_var_node(ID=0,cardinality=v_card[0],neighbor_order=[0,1,5],observed_value_index=-1)\n",
    "node_x1=mp.create_var_node(ID=1,cardinality=v_card[1],neighbor_order=[1,2],observed_value_index=-1)\n",
    "node_x2=mp.create_var_node(ID=2,cardinality=v_card[2],neighbor_order=[2,5],observed_value_index=-1)\n",
    "node_x3=mp.create_var_node(ID=3,cardinality=v_card[3],neighbor_order=[3,4],observed_value_index=-1)\n",
    "node_x4=mp.create_var_node(ID=4,cardinality=v_card[4],neighbor_order=[4],observed_value_index=-1)\n",
    "node_x5=mp.create_var_node(ID=5,cardinality=v_card[5],neighbor_order=[5],observed_value_index=-1)\n",
    "\n",
    "list_var_nodes=[node_x0,node_x1,node_x2,node_x3,node_x4,node_x5]\n",
    "\n",
    "#Factor nodes\n",
    "list_neigh_factor=[[node_x0],[node_x0,node_x1],[node_x1,node_x2],[node_x3],[node_x3,node_x4],[node_x0,node_x2,node_x5]]\n",
    "\n",
    "factor_0=mp.create_factor_node(ID=0,neighbors=list_neigh_factor[0],CPD=CPD_EM_0)\n",
    "factor_1=mp.create_factor_node(ID=1,neighbors=list_neigh_factor[1],CPD=CPD_EM_1)\n",
    "factor_2=mp.create_factor_node(ID=2,neighbors=list_neigh_factor[2],CPD=CPD_EM_2)\n",
    "factor_3=mp.create_factor_node(ID=3,neighbors=list_neigh_factor[3],CPD=CPD_EM_3)\n",
    "factor_4=mp.create_factor_node(ID=4,neighbors=list_neigh_factor[4],CPD=CPD_EM_4)\n",
    "factor_5=mp.create_factor_node(ID=5,neighbors=list_neigh_factor[5],CPD=CPD_EM_5)\n",
    "\n",
    "list_factor_nodes=[factor_0,factor_1,factor_2,factor_3,factor_4,factor_5]\n"
   ]
  },
  {
   "cell_type": "markdown",
   "metadata": {},
   "source": [
    "Before defining the main EM Loop, we define first two intermediate functions to process the $i$-th data given the current estimate to the CPD tables. Given the observation, the goal is to compute the joint marginals \n",
    "\n",
    "$$ p(x_i,x_{pa_i})$$\n",
    "\n",
    "for $i=0,\\ldots 5$, where $x_{pa_i}$ are the parents of $x_i$."
   ]
  },
  {
   "cell_type": "code",
   "execution_count": 9,
   "metadata": {
    "collapsed": true
   },
   "outputs": [],
   "source": [
    "# The following function simply runs BP for a given observation \n",
    "\n",
    "def run_BP(data_index,Samples_matrix,list_var_nodes,list_factor_nodes,BP_iterations):\n",
    "    \n",
    "    #We update those variables that have been observed in the data_index-th Sample\n",
    "    for index,node in enumerate(list_var_nodes):\n",
    "        mp.initialize_variable(node,Samples_matrix[data_index,index])\n",
    "    \n",
    "    for index,factor_node in enumerate(list_factor_nodes):    \n",
    "        mp.initialize_factor_msgs(factor_node,neighbors=list_neigh_factor[index])\n",
    "    \n",
    "    #We run message passing\n",
    "    for l in range(BP_iterations):\n",
    "\n",
    "        #Factor update\n",
    "        for factor_node in list_factor_nodes:      \n",
    "            mp.update_factor_to_var(factor_node)\n",
    "    \n",
    "        #Variable update\n",
    "        for var_node in list_var_nodes:\n",
    "            mp.update_var_to_factor(var_node)"
   ]
  },
  {
   "cell_type": "markdown",
   "metadata": {},
   "source": [
    "To compute the joint pdfs $ p(x_i,x_{pa_i})$ using the result of BP, recall we have to multiply accordingly both current CPD tables and BP messages. The following figure help serves as a guide to compute the joint pdfs $p(x_1|x_0)$, $p(x_2|x_1)$, $p(x_5|x_0,x_2)$ and $p(x_4|x_3)$. "
   ]
  },
  {
   "cell_type": "code",
   "execution_count": 18,
   "metadata": {
    "collapsed": false
   },
   "outputs": [
    {
     "data": {
      "image/png": "[encoded data removed]",
      "text/plain": [
       "<IPython.core.display.Image object>"
      ]
     },
     "execution_count": 18,
     "metadata": {},
     "output_type": "execute_result"
    }
   ],
   "source": [
    "Image(filename='files/BN32.png')"
   ]
  },
  {
   "cell_type": "code",
   "execution_count": 10,
   "metadata": {
    "collapsed": true
   },
   "outputs": [],
   "source": [
    "# The following function is used to compute joint marginals p(x_i,x_pa_i)\n",
    "\n",
    "def compute_joint_probabilities(list_var_nodes,list_factor_nodes,v_card):\n",
    "\n",
    "    list_joints=[]\n",
    "\n",
    "    #marginal x_0\n",
    "    list_joints.append(mp.compute_var_marginal(list_var_nodes[0]))        \n",
    "\n",
    "    #marginal x_0,x_1\n",
    "    \n",
    "    factor=list_factor_nodes[1]\n",
    "    \n",
    "    msg_1=factor['input_msgs'][0]['table'].reshape(-1,)\n",
    "    msg_2=factor['input_msgs'][1]['table'].reshape(-1,)\n",
    "    \n",
    "    aux=np.zeros([factor['CPD'].shape[0],1])\n",
    "    \n",
    "    for position,cpd_value in enumerate(factor['CPD']):        \n",
    "        \n",
    "        indexes=mp.CPD_position_to_variable_index(position,[v_card[0],v_card[1]],v_card[0]*v_card[1])\n",
    "        \n",
    "        aux[position]+=cpd_value*np.exp(msg_1[indexes[0]]+msg_2[indexes[1]])\n",
    "    \n",
    "    \n",
    "    list_joints.append(aux/np.sum(aux))\n",
    "    \n",
    "     \n",
    "    #marginal x_1,x_2\n",
    "    \n",
    "    factor=list_factor_nodes[2]\n",
    "    \n",
    "    msg_1=factor['input_msgs'][0]['table'].reshape(-1,)\n",
    "    msg_2=factor['input_msgs'][1]['table'].reshape(-1,)\n",
    "    \n",
    "    aux=np.zeros([factor['CPD'].shape[0],1])\n",
    "     \n",
    "    for position,cpd_value in enumerate(factor['CPD']):        \n",
    "        \n",
    "        indexes=mp.CPD_position_to_variable_index(position,[v_card[1],v_card[2]],v_card[1]*v_card[2])\n",
    "        \n",
    "        aux[position]+=cpd_value*np.exp(msg_1[indexes[0]]+msg_2[indexes[1]])       \n",
    "    \n",
    "      \n",
    "    list_joints.append(aux/np.sum(aux))\n",
    " \n",
    "    \n",
    "    #marginal x_3\n",
    "    list_joints.append(mp.compute_var_marginal(list_var_nodes[3]))    \n",
    "        \n",
    "        \n",
    "    #marginal x_3,x_4\n",
    "    \n",
    "    factor=list_factor_nodes[4]\n",
    "    \n",
    "    msg_1=factor['input_msgs'][0]['table'].reshape(-1,)\n",
    "    \n",
    "    aux=np.zeros([factor['CPD'].shape[0],1])\n",
    "    \n",
    "    for position,cpd_value in enumerate(factor['CPD']):        \n",
    "        \n",
    "        indexes=mp.CPD_position_to_variable_index(position,[v_card[3],v_card[4]],v_card[3]*v_card[4])\n",
    "        \n",
    "        aux[position]+=cpd_value*np.exp(msg_1[indexes[0]])   \n",
    "        \n",
    "    \n",
    "    list_joints.append(aux/np.sum(aux))\n",
    "    \n",
    "    \n",
    "    #marginal x_0,x_2,x_5\n",
    "    \n",
    "    factor=list_factor_nodes[5]\n",
    "    \n",
    "    msg_1=factor['input_msgs'][0]['table'].reshape(-1,)    \n",
    "    msg_2=factor['input_msgs'][1]['table'].reshape(-1,) \n",
    "    \n",
    "    aux=np.zeros([factor['CPD'].shape[0],1])\n",
    "    \n",
    "    for position,cpd_value in enumerate(factor['CPD']):        \n",
    "        \n",
    "        indexes=mp.CPD_position_to_variable_index(position,[v_card[0],v_card[2],v_card[5]],v_card[0]*v_card[2]*v_card[5])\n",
    "\n",
    "        aux[position]+=cpd_value*np.exp(msg_1[indexes[0]]+msg_2[indexes[1]])\n",
    "        \n",
    "       \n",
    "    list_joints.append(aux/np.sum(aux)) \n",
    "    \n",
    "    return list_joints"
   ]
  },
  {
   "cell_type": "markdown",
   "metadata": {},
   "source": [
    "### EM main loop"
   ]
  },
  {
   "cell_type": "code",
   "execution_count": 12,
   "metadata": {
    "collapsed": false
   },
   "outputs": [
    {
     "name": "stdout",
     "output_type": "stream",
     "text": [
      "EM iteration=0\n",
      "EM iteration=1\n"
     ]
    }
   ],
   "source": [
    "EM_iterations=2\n",
    "BP_iterations=7     #num_variables+1\n",
    "\n",
    "for iteration in range(EM_iterations): \n",
    "    \n",
    "    print(\"EM iteration=%d\" %(iteration))\n",
    "    #E-Step --> Compute the Expected Number of Configurations. This is a loop over the data that could \n",
    "    #be done in parallalel (or even in a noisy way)\n",
    "    \n",
    "    N0=np.zeros(CPD_0.shape)    #Sum_i p(x_0) \n",
    "    N1=np.zeros(CPD_1.shape)    #Sum_i p(x_1|x_0) \n",
    "    N2=np.zeros(CPD_2.shape)    #Sum_i p(x_2|x_1) \n",
    "    N3=np.zeros(CPD_3.shape)    #Sum_i p(x_3) \n",
    "    N4=np.zeros(CPD_4.shape)    #Sum_i p(x_4|x_3)\n",
    "    N5=np.zeros(CPD_5.shape)    #Sum_i p(x_5|x_0,x_2)  \n",
    "    \n",
    "    for i in range(N_samples): \n",
    "    \n",
    "        #We run BP with the observations for the i-th data\n",
    "        run_BP(i,Samples_matrix,list_var_nodes,list_factor_nodes,BP_iterations)\n",
    "        \n",
    "        #Given MP messages, we update the counting matrices Nx (E-STEP)        \n",
    "        \n",
    "        joint_probs=compute_joint_probabilities(list_var_nodes,list_factor_nodes,v_card)\n",
    "\n",
    "        N0+=joint_probs[0] \n",
    "        N1+=joint_probs[1]\n",
    "        N2+=joint_probs[2]\n",
    "        N3+=joint_probs[3]\n",
    "        N4+=joint_probs[4]            \n",
    "        N5+=joint_probs[5]     \n",
    "            \n",
    "    #Normalization  (M-STEP)\n",
    "    \n",
    "    CPD_EM_0=N0/np.sum(N0)\n",
    "    CPD_EM_3=N3/np.sum(N3)\n",
    "    \n",
    "    for j in range(v_card[0]):\n",
    "        aux=N1[j*v_card[1]:(j+1)*v_card[1]]\n",
    "        CPD_EM_1[j*v_card[1]:(j+1)*v_card[1]]=aux/np.sum(aux)\n",
    "        \n",
    "    for j in range(v_card[1]):\n",
    "        aux=N2[j*v_card[2]:(j+1)*v_card[2]]\n",
    "        CPD_EM_2[j*v_card[2]:(j+1)*v_card[2]]=aux/np.sum(aux)        \n",
    "    \n",
    "    for j in range(v_card[0]*v_card[2]):\n",
    "        aux=N5[j*v_card[5]:(j+1)*v_card[5]]\n",
    "        CPD_EM_5[j*v_card[5]:(j+1)*v_card[5]]=aux/np.sum(aux)           \n",
    "        \n",
    "    for j in range(v_card[3]):\n",
    "        aux=N4[j*v_card[4]:(j+1)*v_card[4]]\n",
    "        CPD_EM_4[j*v_card[4]:(j+1)*v_card[4]]=aux/np.sum(aux)  \n",
    "        \n",
    "    \n",
    "    #Finally, update the factors\n",
    "    factor_0['CPD']=CPD_EM_0.reshape(CPD_EM_0.shape[0],)\n",
    "    factor_1['CPD']=CPD_EM_1.reshape(CPD_EM_1.shape[0],)\n",
    "    factor_2['CPD']=CPD_EM_2.reshape(CPD_EM_2.shape[0],)\n",
    "    factor_3['CPD']=CPD_EM_3.reshape(CPD_EM_3.shape[0],)\n",
    "    factor_4['CPD']=CPD_EM_4.reshape(CPD_EM_4.shape[0],)\n",
    "    factor_5['CPD']=CPD_EM_5.reshape(CPD_EM_5.shape[0],)"
   ]
  },
  {
   "cell_type": "markdown",
   "metadata": {},
   "source": [
    "Since we have the ground truth (we know the exact CPDs), the accuracy of the EM estimate can be simply evaluated by comparison"
   ]
  },
  {
   "cell_type": "code",
   "execution_count": 19,
   "metadata": {
    "collapsed": false
   },
   "outputs": [
    {
     "name": "stdout",
     "output_type": "stream",
     "text": [
      "[[ 0.24239416]\n",
      " [ 0.38224238]\n",
      " [ 0.37536346]]\n",
      "[[ 0.28427049]\n",
      " [ 0.37899972]\n",
      " [ 0.33672978]]\n"
     ]
    }
   ],
   "source": [
    "print(CPD_0)\n",
    "print(CPD_EM_0)"
   ]
  },
  {
   "cell_type": "code",
   "execution_count": 14,
   "metadata": {
    "collapsed": false
   },
   "outputs": [
    {
     "name": "stdout",
     "output_type": "stream",
     "text": [
      "[[ 0.39971203]\n",
      " [ 0.60028797]\n",
      " [ 0.51735697]\n",
      " [ 0.48264303]\n",
      " [ 0.79097405]\n",
      " [ 0.20902595]]\n",
      "[[ 0.46780147]\n",
      " [ 0.53219853]\n",
      " [ 0.63848655]\n",
      " [ 0.36151345]\n",
      " [ 0.65156606]\n",
      " [ 0.34843394]]\n"
     ]
    }
   ],
   "source": [
    "print(CPD_1)\n",
    "print(CPD_EM_1)"
   ]
  },
  {
   "cell_type": "code",
   "execution_count": 15,
   "metadata": {
    "collapsed": false
   },
   "outputs": [
    {
     "name": "stdout",
     "output_type": "stream",
     "text": [
      "[[ 0.44501767]\n",
      " [ 0.53757031]\n",
      " [ 0.01741202]\n",
      " [ 0.24320126]\n",
      " [ 0.41035861]\n",
      " [ 0.34644012]]\n",
      "[[ 0.41173423]\n",
      " [ 0.51720542]\n",
      " [ 0.07106036]\n",
      " [ 0.35522648]\n",
      " [ 0.33666595]\n",
      " [ 0.30810758]]\n"
     ]
    }
   ],
   "source": [
    "print(CPD_2)\n",
    "print(CPD_EM_2)"
   ]
  },
  {
   "cell_type": "code",
   "execution_count": null,
   "metadata": {
    "collapsed": false
   },
   "outputs": [],
   "source": []
  },
  {
   "cell_type": "code",
   "execution_count": null,
   "metadata": {
    "collapsed": true
   },
   "outputs": [],
   "source": []
  }
 ],
 "metadata": {
  "anaconda-cloud": {},
  "kernelspec": {
   "display_name": "Python [conda env:py35]",
   "language": "python",
   "name": "conda-env-py35-py"
  },
  "language_info": {
   "codemirror_mode": {
    "name": "ipython",
    "version": 3
   },
   "file_extension": ".py",
   "mimetype": "text/x-python",
   "name": "python",
   "nbconvert_exporter": "python",
   "pygments_lexer": "ipython3",
   "version": "3.5.2"
  }
 },
 "nbformat": 4,
 "nbformat_minor": 1
}
