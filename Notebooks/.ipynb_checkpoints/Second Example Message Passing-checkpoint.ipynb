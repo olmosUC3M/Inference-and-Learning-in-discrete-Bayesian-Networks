{
 "cells": [
  {
   "cell_type": "markdown",
   "metadata": {},
   "source": [
    "## Approximate Inference over a BN using Belief Propagation"
   ]
  },
  {
   "cell_type": "markdown",
   "metadata": {},
   "source": [
    "Consider the following joint probability distribution:\n",
    "\\begin{align}\n",
    "p(x_1,x2,x3)=p(x_1)p(x_2|x_1)p(x_3|x_1,x_2)p(x_4|x_2)\n",
    "\\end{align}\n",
    "\n",
    "where $x_1\\in\\{0,1\\}$, $x_2\\in\\{0,1\\}$, $x_3\\in\\{0,1,2\\}$ and $x_4\\in\\{0,1,2,3\\}$\n",
    "\n",
    "The values of the CPD factors are know. Here we simply worry about inference. The goal is to learn how to use and interpret the provided library.\n",
    "\n",
    "Note now that the associated factor graph contains cycles!!"
   ]
  },
  {
   "cell_type": "code",
   "execution_count": 53,
   "metadata": {
    "collapsed": false
   },
   "outputs": [
    {
     "data": {
      "image/png": "[encoded data removed]",
      "text/plain": [
       "<IPython.core.display.Image object>"
      ]
     },
     "execution_count": 53,
     "metadata": {},
     "output_type": "execute_result"
    }
   ],
   "source": [
    "import numpy as np\n",
    "from lib import Message_passing_BN as mp\n",
    "import warnings\n",
    "warnings.filterwarnings('ignore')\n",
    "from IPython.display import Image\n",
    "\n",
    "Image(filename='files/BN2.png')"
   ]
  },
  {
   "cell_type": "code",
   "execution_count": 54,
   "metadata": {
    "collapsed": false
   },
   "outputs": [],
   "source": [
    "\n",
    "#p(x1)\n",
    "CPD_1=np.array([0.5, 0.5])\n",
    "\n",
    "#p(x2|x1)\n",
    "CPD_2=np.array([0.75, 0.25, 0.3, 0.7])\n",
    "\n",
    "#p(x3|x2)\n",
    "CPD_3=np.array([0.1, 0.67,0.23,0.1,0.3,0.6,0.1, 0.6,0.3,0.2,0.3,0.5])\n",
    "\n",
    "#p(x4|x2)\n",
    "CPD_4=np.array([0.05,0.8,0.05,0.1,0.2,0.2,0.5,0.1])"
   ]
  },
  {
   "cell_type": "markdown",
   "metadata": {},
   "source": [
    "### Defining the factor graph associated to the BN\n",
    "\n",
    "Before running inference using BP, we will define the variable nodes and the graph. "
   ]
  },
  {
   "cell_type": "code",
   "execution_count": 55,
   "metadata": {
    "collapsed": false
   },
   "outputs": [],
   "source": [
    "v_card=[2,2,3,4]         #Vector of cardinalities\n",
    "\n",
    "node_x1=mp.create_var_node(ID=1,cardinality=v_card[0],neighbor_order=[1,2,3],observed_value_index=-1)\n",
    "node_x2=mp.create_var_node(ID=2,cardinality=v_card[1],neighbor_order=[2,3,4],observed_value_index=-1)\n",
    "node_x3=mp.create_var_node(ID=3,cardinality=v_card[2],neighbor_order=[3],observed_value_index=-1)\n",
    "node_x4=mp.create_var_node(ID=4,cardinality=v_card[3],neighbor_order=[4],observed_value_index=-1)\n",
    "\n",
    "list_var_nodes=[node_x1,node_x2,node_x3,node_x4]\n",
    "\n",
    "factor_1=mp.create_factor_node(ID=1,neighbors=[node_x1],CPD=CPD_1)\n",
    "factor_2=mp.create_factor_node(ID=2,neighbors=[node_x1,node_x2],CPD=CPD_2)\n",
    "factor_3=mp.create_factor_node(ID=3,neighbors=[node_x1,node_x2,node_x3],CPD=CPD_3)\n",
    "factor_4=mp.create_factor_node(ID=4,neighbors=[node_x2,node_x4],CPD=CPD_4)\n",
    "\n",
    "list_factor_nodes=[factor_1,factor_2,factor_3,factor_4]"
   ]
  },
  {
   "cell_type": "markdown",
   "metadata": {},
   "source": [
    "### Running BP message passing\n",
    "\n",
    "This is straightforward given the functions provided. The factor graph is not a tree, so the algorithm may not converge (in this case it will because we have a single loop, but in general we losse converge and we have to stop after a few iterations)"
   ]
  },
  {
   "cell_type": "code",
   "execution_count": 56,
   "metadata": {
    "collapsed": false
   },
   "outputs": [
    {
     "name": "stdout",
     "output_type": "stream",
     "text": [
      "The marginal pmf of node x_1 is=\n",
      "[[ 0.5]\n",
      " [ 0.5]]\n",
      "The marginal pmf of node x_2 is=\n",
      "[[ 0.525]\n",
      " [ 0.475]]\n",
      "The marginal pmf of node x_3 is=\n",
      "[[ 0.12375 ]\n",
      " [ 0.475875]\n",
      " [ 0.400375]]\n",
      "The marginal pmf of node x_4 is=\n",
      "[[ 0.12125]\n",
      " [ 0.515  ]\n",
      " [ 0.26375]\n",
      " [ 0.1    ]]\n"
     ]
    }
   ],
   "source": [
    "L=5 #BP iterations\n",
    "\n",
    "for l in range(L):\n",
    "    \n",
    "    #Factor update\n",
    "    for factor_node in list_factor_nodes:\n",
    "        mp.update_factor_to_var(factor_node)\n",
    "        \n",
    "    #Variable update\n",
    "    for var_node in list_var_nodes:\n",
    "        mp.update_var_to_factor(var_node)\n",
    "\n",
    "list_marg=[]\n",
    "\n",
    "for var_node in list_var_nodes:\n",
    "    marg=mp.compute_var_marginal(var_node)\n",
    "    list_marg.append(marg)\n",
    "    print(\"The marginal pmf of node x_%d is=\" %(var_node['ID']))\n",
    "    print(marg)\n"
   ]
  },
  {
   "cell_type": "markdown",
   "metadata": {
    "collapsed": false
   },
   "source": [
    "### Inference with partial observations\n",
    "\n",
    "Note that if we observe either x1 or x2, the FG becomes a tree and BP converges"
   ]
  },
  {
   "cell_type": "code",
   "execution_count": 57,
   "metadata": {
    "collapsed": false
   },
   "outputs": [],
   "source": [
    "# The function mp.initialize_variable set the value to their current observed state\n",
    "\n",
    "mp.initialize_variable(var_node=node_x1,observed_value_index=0)\n",
    "\n",
    "#IMPORTANT, we have to re-initialize all factor nodes!! Intermediate messages were not erased from the previous BP\n",
    "\n",
    "mp.initialize_factor_msgs(factor_1,neighbors=[node_x1])\n",
    "mp.initialize_factor_msgs(factor_2,neighbors=[node_x1,node_x2])\n",
    "mp.initialize_factor_msgs(factor_3,neighbors=[node_x1,node_x2,node_x3])\n",
    "mp.initialize_factor_msgs(factor_4,neighbors=[node_x2,node_x4])"
   ]
  },
  {
   "cell_type": "markdown",
   "metadata": {},
   "source": [
    "And now we can run BP again ..."
   ]
  },
  {
   "cell_type": "code",
   "execution_count": 58,
   "metadata": {
    "collapsed": false
   },
   "outputs": [
    {
     "name": "stdout",
     "output_type": "stream",
     "text": [
      "The marginal pmf of node x_1 is=\n",
      "[[  1.00000000e+00]\n",
      " [  1.38389653e-87]]\n",
      "The marginal pmf of node x_2 is=\n",
      "[[ 0.75]\n",
      " [ 0.25]]\n",
      "The marginal pmf of node x_3 is=\n",
      "[[ 0.33333333]\n",
      " [ 0.33333333]\n",
      " [ 0.33333333]]\n",
      "The marginal pmf of node x_4 is=\n",
      "[[ 0.125]\n",
      " [ 0.5  ]\n",
      " [ 0.275]\n",
      " [ 0.1  ]]\n"
     ]
    }
   ],
   "source": [
    "L=20 #BP iterations\n",
    "\n",
    "for l in range(L):\n",
    "    \n",
    "    #Factor update\n",
    "    for factor_node in list_factor_nodes:\n",
    "        mp.update_factor_to_var(factor_node)\n",
    "        \n",
    "    #Variable update\n",
    "    for var_node in list_var_nodes:\n",
    "        mp.update_var_to_factor(var_node)\n",
    "\n",
    "list_marg=[]\n",
    "\n",
    "for var_node in list_var_nodes:\n",
    "    marg=mp.compute_var_marginal(var_node)\n",
    "    list_marg.append(marg)\n",
    "    print(\"The marginal pmf of node x_%d is=\" %(var_node['ID']))\n",
    "    print(marg)"
   ]
  },
  {
   "cell_type": "markdown",
   "metadata": {
    "collapsed": false
   },
   "source": [
    "### Exact Inference via node clustering\n",
    "\n",
    "The optimal inference algorithm for **any** BN, no matter if the factor graph contains cycles or not, is the *Junction Tree Algorithm (JTA)*. In a nutshell, it is based on creating cluster of nodes so that the resulting fg with the cluster nodes is cycle-free and BP con be run over it. JTA finds the most efficient way to achieve such graph. **However its complexity is in general prohibitive. Unless the dimension is very small or the graph has a sparse structure**."
   ]
  },
  {
   "cell_type": "markdown",
   "metadata": {
    "collapsed": true
   },
   "source": [
    "Lets show that we can run exact inference in the current BP **by merging nodes x1 and x2**\n",
    "\n",
    "Again, we make use of a provided function to create the cluster-node. ** Some CPDs have to be re-defined! Now we have a cluster node that can take up to 4 values!**"
   ]
  },
  {
   "cell_type": "code",
   "execution_count": 59,
   "metadata": {
    "collapsed": false
   },
   "outputs": [
    {
     "data": {
      "image/png": "[encoded data removed]",
      "text/plain": [
       "<IPython.core.display.Image object>"
      ]
     },
     "execution_count": 59,
     "metadata": {},
     "output_type": "execute_result"
    }
   ],
   "source": [
    "Image(filename='files/BN22.png')"
   ]
  },
  {
   "cell_type": "code",
   "execution_count": 60,
   "metadata": {
    "collapsed": false
   },
   "outputs": [],
   "source": [
    "#p(x1,x2)\n",
    "CPD_12_joint=CPD_2\n",
    "CPD_12_joint[0:2]*=CPD_1[0]          #This exploits the Tree-structure\n",
    "CPD_12_joint[2:4]*=CPD_1[1]\n",
    "\n",
    "node_x1=mp.create_var_node(ID=1,cardinality=v_card[0],neighbor_order=[1,2,3],observed_value_index=-1)\n",
    "node_x2=mp.create_var_node(ID=2,cardinality=v_card[1],neighbor_order=[2,3,4],observed_value_index=-1)\n",
    "node_x3=mp.create_var_node(ID=3,cardinality=v_card[2],neighbor_order=[3],observed_value_index=-1)\n",
    "node_x4=mp.create_var_node(ID=4,cardinality=v_card[3],neighbor_order=[4],observed_value_index=-1)\n",
    "\n",
    "node_x12=mp.create_joint_node(5,node_members=[node_x1,node_x2],neighbor_order=[5],observed_values_indexes=-1)\n",
    "\n",
    "list_var_nodes=[node_x12,node_x3,node_x4]\n",
    "\n",
    "factor_1=mp.create_factor_node(ID=1,neighbors=[node_x1],CPD=CPD_1)\n",
    "factor_2=mp.create_factor_node(ID=2,neighbors=[node_x1,node_x2],CPD=CPD_2)\n",
    "factor_3=mp.create_factor_node(ID=3,neighbors=[node_x1,node_x2,node_x3],CPD=CPD_3)\n",
    "factor_4=mp.create_factor_node(ID=4,neighbors=[node_x2,node_x4],CPD=CPD_4)\n",
    "\n",
    "factor_12=mp.create_factor_node(5,neighbors=[node_x12],CPD=CPD_12_joint)\n",
    "\n",
    "list_factor_nodes=[factor_12,factor_3,factor_4]\n",
    "\n"
   ]
  },
  {
   "cell_type": "code",
   "execution_count": 61,
   "metadata": {
    "collapsed": false
   },
   "outputs": [
    {
     "name": "stdout",
     "output_type": "stream",
     "text": [
      "The marginal pmf of node x_5 is=\n",
      "[[ 0.375]\n",
      " [ 0.125]\n",
      " [ 0.15 ]\n",
      " [ 0.35 ]]\n",
      "The marginal pmf of node x_3 is=\n",
      "[[ 0.125 ]\n",
      " [ 0.4675]\n",
      " [ 0.4075]]\n",
      "The marginal pmf of node x_4 is=\n",
      "[[ 0.125]\n",
      " [ 0.5  ]\n",
      " [ 0.275]\n",
      " [ 0.1  ]]\n"
     ]
    }
   ],
   "source": [
    "L=3 #BP iterations\n",
    "\n",
    "for l in range(L):\n",
    "    \n",
    "    #Factor update\n",
    "    for factor_node in list_factor_nodes:\n",
    "        mp.update_factor_to_var(factor_node)\n",
    "        \n",
    "    #Variable update\n",
    "    for var_node in list_var_nodes:\n",
    "        mp.update_var_to_factor(var_node)\n",
    "\n",
    "list_marg=[]\n",
    "\n",
    "for var_node in list_var_nodes:\n",
    "    marg=mp.compute_var_marginal(var_node)\n",
    "    list_marg.append(marg)\n",
    "    print(\"The marginal pmf of node x_%d is=\" %(var_node['ID']))\n",
    "    print(marg)\n"
   ]
  },
  {
   "cell_type": "markdown",
   "metadata": {},
   "source": [
    "BP marginals are close to the exact ones, but they are not equal!"
   ]
  },
  {
   "cell_type": "code",
   "execution_count": null,
   "metadata": {
    "collapsed": true
   },
   "outputs": [],
   "source": []
  }
 ],
 "metadata": {
  "anaconda-cloud": {},
  "kernelspec": {
   "display_name": "Python [conda env:py35]",
   "language": "python",
   "name": "conda-env-py35-py"
  },
  "language_info": {
   "codemirror_mode": {
    "name": "ipython",
    "version": 3
   },
   "file_extension": ".py",
   "mimetype": "text/x-python",
   "name": "python",
   "nbconvert_exporter": "python",
   "pygments_lexer": "ipython3",
   "version": "3.5.2"
  }
 },
 "nbformat": 4,
 "nbformat_minor": 1
}
